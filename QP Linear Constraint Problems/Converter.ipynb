{
 "cells": [
  {
   "cell_type": "code",
   "execution_count": 118,
   "metadata": {},
   "outputs": [],
   "source": [
    "using DataFrames\n",
    "using DelimitedFiles\n",
    "using LinearAlgebra\n",
    "using MatrixMarket"
   ]
  },
  {
   "cell_type": "code",
   "execution_count": 249,
   "metadata": {},
   "outputs": [
    {
     "data": {
      "text/plain": [
       "24-element Vector{Int64}:\n",
       "    4\n",
       "    5\n",
       "    6\n",
       " 1282\n",
       " 1283\n",
       " 1284\n",
       " 1285\n",
       " 1336\n",
       " 1337\n",
       " 1338\n",
       "    ⋮\n",
       " 1344\n",
       " 1345\n",
       " 1346\n",
       " 1347\n",
       " 1348\n",
       " 1349\n",
       " 1350\n",
       " 1351\n",
       " 1352"
      ]
     },
     "metadata": {},
     "output_type": "display_data"
    }
   ],
   "source": [
    "function find_lines_with_character(file_path::AbstractString, character::AbstractString)\n",
    "    matching_lines = Vector{Int}()\n",
    "\n",
    "    # Open the file\n",
    "    file = open(file_path, \"r\")\n",
    "\n",
    "    # Read the file line by line and search for the character\n",
    "    line_number = 0\n",
    "    for line in eachline(file)\n",
    "        line_number += 1\n",
    "\n",
    "        if contains(line, character)\n",
    "            push!(matching_lines, line_number)\n",
    "        end\n",
    "    end\n",
    "\n",
    "    close(file)\n",
    "\n",
    "    return matching_lines\n",
    "end\n",
    "\n",
    "\n",
    "# Example usage:\n",
    "file_path = \"QPLIB_0018\\\\QPLIB_0018.qplib\"\n",
    "character_to_search = \"#\"\n",
    "\n",
    "line_list = find_lines_with_character(file_path, character_to_search)\n"
   ]
  },
  {
   "cell_type": "code",
   "execution_count": 250,
   "metadata": {},
   "outputs": [
    {
     "data": {
      "text/plain": [
       "0.0"
      ]
     },
     "metadata": {},
     "output_type": "display_data"
    }
   ],
   "source": [
    "Lines = readlines(file_path)\n",
    "\n",
    "\n",
    "\n",
    "num_var = Int(parse(Float64,split(Lines[line_list[1]])[1]))\n",
    "num_const = Int(parse(Float64,split(Lines[line_list[2]])[1]))\n",
    "num_quadterms = Int(parse(Float64,split(Lines[line_list[3]])[1]))\n",
    "\n",
    "defval_lincoeff = parse(Float64,split(Lines[line_list[4]])[1])\n",
    "numndef_lincoeff = parse(Float64,split(Lines[line_list[5]])[1])\n",
    "\n",
    "obj_const = parse(Float64,split(Lines[line_list[6]])[1])\n",
    "\n",
    "numlin_const = parse(Float64,split(Lines[line_list[7]])[1])\n",
    "\n",
    "val_inf = Inf\n",
    "\n",
    "def_lhs_val = parse(Float64,split(Lines[line_list[9]])[1])\n",
    "numndef_lhs = parse(Float64,split(Lines[line_list[10]])[1])\n",
    "\n",
    "def_rhs_val = parse(Float64,split(Lines[line_list[11]])[1])\n",
    "numndef_rhs = parse(Float64,split(Lines[line_list[12]])[1])\n",
    "\n",
    "def_var_lb = parse(Float64,split(Lines[line_list[13]])[1])\n",
    "numndef_var_lb = parse(Float64,split(Lines[line_list[14]])[1])\n",
    "\n",
    "def_var_ub = parse(BigFloat,split(Lines[line_list[15]])[1])\n",
    "numndef_var_ub = parse(Float64,split(Lines[line_list[16]])[1])\n"
   ]
  },
  {
   "cell_type": "code",
   "execution_count": 294,
   "metadata": {},
   "outputs": [],
   "source": [
    "mat_length = (line_list[4]-1)-(line_list[3])\n",
    "x = zeros(mat_length,3)\n",
    "for i in 1:mat_length\n",
    "    x[i,:] = parse.(Float64,split(Lines[line_list[3] + i])[1:3])\n",
    "end\n",
    "\n",
    "nonzeros = mat_length\n",
    "\n",
    "open(\"myfile.mtx\",\"w\") do file\n",
    "    println(file,\"%%MatrixMarket matrix coordinate real general\")\n",
    "    println(file,\"% Comments can be included using '%' at the beginning of a line\")\n",
    "    println(file,\"\")\n",
    "    println(file,\"% Rows Columns NonZeros\")\n",
    "    println(file,\"$(num_var) $(num_var) $(nonzeros)\")\n",
    "    println(file,\"\")\n",
    "for i in 1:mat_length\n",
    "    println(file,Lines[line_list[3]+i])\n",
    "end\n",
    "end"
   ]
  },
  {
   "cell_type": "code",
   "execution_count": 297,
   "metadata": {},
   "outputs": [
    {
     "ename": "BoundsError",
     "evalue": "BoundsError: attempt to access empty String at index [1]",
     "output_type": "error",
     "traceback": [
      "BoundsError: attempt to access empty String at index [1]\n",
      "\n",
      "Stacktrace:\n",
      " [1] checkbounds\n",
      "   @ .\\strings\\basic.jl:216 [inlined]\n",
      " [2] codeunit\n",
      "   @ .\\strings\\string.jl:106 [inlined]\n",
      " [3] getindex\n",
      "   @ .\\strings\\string.jl:227 [inlined]\n",
      " [4] find_splits(s::String, num::Int64)\n",
      "   @ MatrixMarket C:\\Users\\jdbra\\.julia\\packages\\MatrixMarket\\ic62N\\src\\MatrixMarket.jl:105\n",
      " [5] (::MatrixMarket.var\"#1#3\"{Bool, Bool})(mmfile::IOStream)\n",
      "   @ MatrixMarket C:\\Users\\jdbra\\.julia\\packages\\MatrixMarket\\ic62N\\src\\MatrixMarket.jl:81\n",
      " [6] open(::MatrixMarket.var\"#1#3\"{Bool, Bool}, ::String, ::Vararg{String}; kwargs::Base.Pairs{Symbol, Union{}, Tuple{}, NamedTuple{(), Tuple{}}})\n",
      "   @ Base .\\io.jl:384\n",
      " [7] open\n",
      "   @ .\\io.jl:381 [inlined]\n",
      " [8] mmread (repeats 2 times)\n",
      "   @ C:\\Users\\jdbra\\.julia\\packages\\MatrixMarket\\ic62N\\src\\MatrixMarket.jl:30 [inlined]\n",
      " [9] top-level scope\n",
      "   @ c:\\Users\\jdbra\\Desktop\\QP Linear Constraint Problems\\Converter.ipynb:1"
     ]
    }
   ],
   "source": [
    "mmread(\"myfile.mtx\")"
   ]
  },
  {
   "cell_type": "code",
   "execution_count": null,
   "metadata": {},
   "outputs": [],
   "source": []
  }
 ],
 "metadata": {
  "kernelspec": {
   "display_name": "Julia 1.8.5",
   "language": "julia",
   "name": "julia-1.8"
  },
  "language_info": {
   "file_extension": ".jl",
   "mimetype": "application/julia",
   "name": "julia",
   "version": "1.8.5"
  }
 },
 "nbformat": 4,
 "nbformat_minor": 2
}
