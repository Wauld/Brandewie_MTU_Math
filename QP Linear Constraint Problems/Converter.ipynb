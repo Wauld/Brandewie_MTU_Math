{
 "cells": [
  {
   "cell_type": "code",
   "execution_count": 18,
   "metadata": {},
   "outputs": [],
   "source": [
    "using DataFrames\n",
    "using DelimitedFiles\n",
    "using SparseArrays\n",
    "using LinearAlgebra\n",
    "using MatrixMarket"
   ]
  },
  {
   "cell_type": "code",
   "execution_count": 55,
   "metadata": {},
   "outputs": [],
   "source": [
    "function find_lines_with_character(file_path::AbstractString, character::AbstractString)\n",
    "    matching_lines = Vector{Int}()\n",
    "\n",
    "    # Open the file\n",
    "    file = open(file_path, \"r\")\n",
    "\n",
    "    # Read the file line by line and search for the character\n",
    "    line_number = 0\n",
    "    for line in eachline(file)\n",
    "        line_number += 1\n",
    "\n",
    "        if contains(line, character)\n",
    "            push!(matching_lines, line_number)\n",
    "        end\n",
    "    end\n",
    "\n",
    "    close(file)\n",
    "\n",
    "    return matching_lines\n",
    "end\n",
    "\n",
    "\n",
    "\n",
    "# Example usage:\n",
    "file_name = \"QPLIB_0018\"\n",
    "file_path = \"QPLIB_0018\\\\QPLIB_0018.qplib\"\n",
    "character_to_search = \"#\"\n",
    "\n",
    "line_list = find_lines_with_character(file_path, character_to_search);\n"
   ]
  },
  {
   "cell_type": "code",
   "execution_count": 56,
   "metadata": {},
   "outputs": [
    {
     "data": {
      "text/plain": [
       "0.0"
      ]
     },
     "execution_count": 56,
     "metadata": {},
     "output_type": "execute_result"
    }
   ],
   "source": [
    "Lines = readlines(file_path)\n",
    "\n",
    "num_var = Int(parse(Float64,split(Lines[line_list[1]])[1]))\n",
    "num_const = Int(parse(Float64,split(Lines[line_list[2]])[1]))\n",
    "num_quadterms = Int(parse(Float64,split(Lines[line_list[3]])[1]))\n",
    "\n",
    "defval_lincoeff = parse(Float64,split(Lines[line_list[4]])[1])\n",
    "numndef_lincoeff = parse(Float64,split(Lines[line_list[5]])[1])\n",
    "\n",
    "obj_const = parse(Float64,split(Lines[line_list[6]])[1])\n",
    "\n",
    "numlin_const = parse(Float64,split(Lines[line_list[7]])[1])\n",
    "\n",
    "val_inf = Float64(parse(BigFloat,split(Lines[line_list[8]])[1]))\n",
    "\n",
    "def_lhs_val = parse(Float64,split(Lines[line_list[9]])[1])\n",
    "numndef_lhs = parse(Float64,split(Lines[line_list[10]])[1])\n",
    "\n",
    "def_rhs_val = parse(Float64,split(Lines[line_list[11]])[1])\n",
    "numndef_rhs = parse(Float64,split(Lines[line_list[12]])[1])\n",
    "\n",
    "def_var_lb = parse(Float64,split(Lines[line_list[13]])[1])\n",
    "numndef_var_lb = parse(Float64,split(Lines[line_list[14]])[1])\n",
    "\n",
    "def_var_ub = Float64(parse(BigFloat,split(Lines[line_list[15]])[1]))\n",
    "numndef_var_ub = parse(Float64,split(Lines[line_list[16]])[1])\n",
    "\n",
    "def_var_prime = Float64(parse(Float64,split(Lines[line_list[17]])[1]))\n",
    "numndef_var_prime = parse(Float64,split(Lines[line_list[18]])[1])\n",
    "\n",
    "def_const_dual = Float64(parse(Float64,split(Lines[line_list[19]])[1]))\n",
    "numndef_const_dual = parse(Float64,split(Lines[line_list[20]])[1])\n",
    "\n",
    "def_var_bdual = Float64(parse(Float64,split(Lines[line_list[21]])[1]))\n",
    "numndef_var_bdual = parse(Float64,split(Lines[line_list[22]])[1])\n",
    "\n",
    "numndef_var_name = parse(Float64,split(Lines[line_list[23]])[1])\n",
    "numndef_const_name = parse(Float64,split(Lines[line_list[24]])[1])\n"
   ]
  },
  {
   "cell_type": "code",
   "execution_count": 57,
   "metadata": {},
   "outputs": [],
   "source": [
    "# Hessian Extractor ✓\n",
    "# Linear Constraints \n",
    "# Lhs and Rhs Values\n",
    "# lb and ub values\n",
    "# prime, constraint dual, variable bound dual\n",
    "\n",
    "b_length = (line_list[4]-1)-(line_list[3])\n",
    "B_cord = zeros(b_length,3)\n",
    "for i in 1:b_length\n",
    "    B_cord[i,:] = parse.(Float64,split(Lines[line_list[3] + i])[1:3])\n",
    "end\n",
    "B_sparse = sparse(B_cord[:,1],B_cord[:,2],B_cord[:,3])\n",
    "\n",
    "B = mmwrite(string(file_name, \"_B\", \".mtx\"),B_sparse)"
   ]
  },
  {
   "cell_type": "code",
   "execution_count": null,
   "metadata": {},
   "outputs": [],
   "source": []
  },
  {
   "cell_type": "code",
   "execution_count": null,
   "metadata": {},
   "outputs": [],
   "source": []
  }
 ],
 "metadata": {
  "kernelspec": {
   "display_name": "Julia 1.8.5",
   "language": "julia",
   "name": "julia-1.8"
  },
  "language_info": {
   "file_extension": ".jl",
   "mimetype": "application/julia",
   "name": "julia",
   "version": "1.8.5"
  }
 },
 "nbformat": 4,
 "nbformat_minor": 2
}
